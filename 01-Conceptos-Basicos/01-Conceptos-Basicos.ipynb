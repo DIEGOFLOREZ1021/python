{
 "cells": [
  {
   "cell_type": "code",
   "execution_count": 2,
   "metadata": {},
   "outputs": [],
   "source": [
    "#Declaraion de Variables\n",
    "\n",
    "numero = 20\n",
    "Numero = 10\n",
    "Saludo = \"Hola Mundo\""
   ]
  },
  {
   "cell_type": "code",
   "execution_count": null,
   "metadata": {},
   "outputs": [],
   "source": [
    "#Mostrar el contenido de las Variables\n",
    "print(numero)\n",
    "print(Numero)\n",
    "print(\"Saludo: \"+Saludo)\n",
    "\n",
    "print(36)\n",
    "print(\"Saludos...\")"
   ]
  },
  {
   "cell_type": "code",
   "execution_count": null,
   "metadata": {},
   "outputs": [],
   "source": [
    "#Mostrar el tipo de las Variables\n",
    "print(type(numero))\n",
    "print(type(Saludo))"
   ]
  },
  {
   "cell_type": "code",
   "execution_count": 1,
   "metadata": {},
   "outputs": [
    {
     "name": "stdout",
     "output_type": "stream",
     "text": [
      "<class 'int'>\n",
      "<class 'float'>\n",
      "<class 'str'>\n",
      "<class 'bool'>\n",
      "<class 'tuple'>\n",
      "<class 'list'>\n",
      "<class 'set'>\n",
      "<class 'list'>\n"
     ]
    }
   ],
   "source": [
    "#Mostrar el tipo de Variables utilizando la funcion TYPE\n",
    "print(type(3))\n",
    "print(type(3.1))\n",
    "print(type(\"tres\"))\n",
    "print(type(3==3))\n",
    "print(type(('1' , '2' , '3')))\n",
    "print(type(['1' , '2' , '3']))\n",
    "print(type({'1' , '2' , '3'}))\n",
    "print(type([1 , 2 , 2]))\n"
   ]
  }
 ],
 "metadata": {
  "kernelspec": {
   "display_name": "Python 3",
   "language": "python",
   "name": "python3"
  },
  "language_info": {
   "codemirror_mode": {
    "name": "ipython",
    "version": 3
   },
   "file_extension": ".py",
   "mimetype": "text/x-python",
   "name": "python",
   "nbconvert_exporter": "python",
   "pygments_lexer": "ipython3",
   "version": "3.9.5"
  },
  "orig_nbformat": 4,
  "vscode": {
   "interpreter": {
    "hash": "af2681decb00bc2e2bb5979f13d0204f61159b68d4b62a5a24c1c4c5330aac13"
   }
  }
 },
 "nbformat": 4,
 "nbformat_minor": 2
}
